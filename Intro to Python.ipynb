{
 "cells": [
  {
   "cell_type": "markdown",
   "metadata": {},
   "source": [
    "# Introduction to Python and Jupyter Notebooks"
   ]
  },
  {
   "cell_type": "markdown",
   "metadata": {},
   "source": [
    "## What is Python?"
   ]
  },
  {
   "cell_type": "markdown",
   "metadata": {},
   "source": [
    "Python is a very *popular* programming language that is commonly used in a variety of empirical fields."
   ]
  },
  {
   "cell_type": "markdown",
   "metadata": {},
   "source": [
    "The purpose of programming for our course will be to create **reproducible** and **transparent** economic research."
   ]
  },
  {
   "cell_type": "markdown",
   "metadata": {},
   "source": [
    "Jupyter Notebooks are a way to create easy to use, natural language programming script."
   ]
  },
  {
   "cell_type": "markdown",
   "metadata": {},
   "source": [
    "Benefits of Jupyter Notebooks: \n",
    "* It is easy to read\n",
    "* Others can immediately see how you found your results\n",
    "* It is easy to edit and improve\n",
    "* Lightweight and fast!"
   ]
  },
  {
   "cell_type": "markdown",
   "metadata": {},
   "source": [
    "## First steps:\n",
    "* Download Python 2 through Anaconda. Anaconda includes Jupyter Notebooks by default\n",
    "https://www.anaconda.com/distribution/ \n",
    "\n",
    "* Once installed, open the Anaconda-Navigator \n",
    "* Lauch the Jupyter Notebook. This will open in a browser window\n",
    "* Create a folder called \"Health Economics by navigating your folders to where you would like to put it, clicking the \"New\" button in the top right, and selecting Python 2 Notebook\n",
    "* Click on the title and change it to \"Assignment 1\""
   ]
  },
  {
   "cell_type": "markdown",
   "metadata": {},
   "source": [
    "## Markdown:\n",
    "We want to add some text to this document. \n",
    "\n",
    "You will see something that looks like:\n",
    "\n",
    "    In[ ]: \n",
    "\n",
    "This is called a command line (we will deal with these later). To turn it into a textbox, either:\n",
    "1. Click the Cell>Cell Type>Markdown, or \n",
    "2. Click the esc button, then click the \"m\" button, hit Tab or click on the cell"
   ]
  },
  {
   "cell_type": "markdown",
   "metadata": {},
   "source": [
    "The In[ ]: is now gone and you are in markdown mode!"
   ]
  },
  {
   "cell_type": "markdown",
   "metadata": {},
   "source": [
    "### Headings \n",
    "    # Heading 1: largest \n",
    "    ## Heading 2: Smaller Heading\n",
    "    \n",
    "You can add more #'s to create smaller headings \n",
    "\n",
    "### Bulleted and Numbered Lists\n",
    "* We can make a couple bullets \n",
    "* Like this:\n",
    "\n",
    "    * We can make a couple bullets \n",
    "    * Like this:\n",
    "\n",
    "1. Or we can create a couple numbered lists \n",
    "2. Like this:\n",
    "\n",
    "    1. Or we can create a couple numbered lists \n",
    "    2. Like this:\n",
    "    \n",
    "### More markdown:\n",
    "https://github.com/adam-p/markdown-here/wiki/Markdown-Cheatsheet \n",
    "\n",
    "\n"
   ]
  },
  {
   "cell_type": "markdown",
   "metadata": {},
   "source": [
    "## Creating a New Text Box/Command Line:\n",
    "If you click Enter after writing some text, it will take you to the next line in the same text box.\n",
    "\n",
    "You can add a new box by either:\n",
    "1. Clicking Insert>Cell Below, or\n",
    "2. Holding Shift+Enter "
   ]
  },
  {
   "cell_type": "markdown",
   "metadata": {},
   "source": [
    "## Commands\n",
    "The main purpose of using Python is analysis!\n",
    "\n",
    "Commands are how we are going to do this. \n",
    "\n",
    "The following is an example of a simple sum in Python 2"
   ]
  },
  {
   "cell_type": "code",
   "execution_count": 1,
   "metadata": {
    "collapsed": false,
    "scrolled": true
   },
   "outputs": [
    {
     "data": {
      "text/plain": [
       "4"
      ]
     },
     "execution_count": 1,
     "metadata": {},
     "output_type": "execute_result"
    }
   ],
   "source": [
    "2+2"
   ]
  },
  {
   "cell_type": "markdown",
   "metadata": {},
   "source": [
    "To reproduce this, you type 2+2 in the In cell and either:\n",
    "1. Click Cell>Run Cells, or \n",
    "2. Hold Shift+Enter"
   ]
  },
  {
   "cell_type": "code",
   "execution_count": 2,
   "metadata": {
    "collapsed": false
   },
   "outputs": [
    {
     "data": {
      "text/plain": [
       "9"
      ]
     },
     "execution_count": 2,
     "metadata": {},
     "output_type": "execute_result"
    }
   ],
   "source": [
    "5+4"
   ]
  },
  {
   "cell_type": "markdown",
   "metadata": {},
   "source": [
    "You can edit the equation by double clicking on the cell. If you edit a cell, you must re-run it to get the new answer. You will notice that the number updates depending on how many times you edit the cell. \n",
    "\n",
    "If you do not like this, you can restart and rerun the entire notebook, which will renumber the equations based on the order of execution. You can find this in **Kernal>Restart and Run All** "
   ]
  },
  {
   "cell_type": "markdown",
   "metadata": {},
   "source": [
    "## Assignment: \n",
    "* Create a markdown cell with a header for your name, assignment number, and date.\n",
    "* Create a command cell and calculate \n",
    "\n",
    "    2453*3424 \n",
    "    \n",
    "* Save your Jupyter Notebook and open submit it to Canvas"
   ]
  },
  {
   "cell_type": "code",
   "execution_count": 3,
   "metadata": {
    "collapsed": false
   },
   "outputs": [
    {
     "name": "stdout",
     "output_type": "stream",
     "text": [
      "Thanks!\n"
     ]
    }
   ],
   "source": [
    "print \"Thanks!\""
   ]
  }
 ],
 "metadata": {
  "kernelspec": {
   "display_name": "Python 2",
   "language": "python",
   "name": "python2"
  },
  "language_info": {
   "codemirror_mode": {
    "name": "ipython",
    "version": 2
   },
   "file_extension": ".py",
   "mimetype": "text/x-python",
   "name": "python",
   "nbconvert_exporter": "python",
   "pygments_lexer": "ipython2",
   "version": "2.7.13"
  }
 },
 "nbformat": 4,
 "nbformat_minor": 2
}
